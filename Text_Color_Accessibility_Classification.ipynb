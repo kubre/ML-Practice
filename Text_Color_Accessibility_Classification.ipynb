{
  "nbformat": 4,
  "nbformat_minor": 0,
  "metadata": {
    "colab": {
      "name": "Text Color Accessibility Classification.ipynb",
      "provenance": [],
      "collapsed_sections": [],
      "mount_file_id": "1c1UtWnvvfdc7sxLH328SxNx5SG7DIs0-",
      "authorship_tag": "ABX9TyNfuUpXRrxkRH2NhHX6Nn6Q",
      "include_colab_link": true
    },
    "kernelspec": {
      "name": "python3",
      "display_name": "Python 3"
    }
  },
  "cells": [
    {
      "cell_type": "markdown",
      "metadata": {
        "id": "view-in-github",
        "colab_type": "text"
      },
      "source": [
        "<a href=\"https://colab.research.google.com/github/kubre/ML-Practice/blob/master/Text_Color_Accessibility_Classification.ipynb\" target=\"_parent\"><img src=\"https://colab.research.google.com/assets/colab-badge.svg\" alt=\"Open In Colab\"/></a>"
      ]
    },
    {
      "cell_type": "code",
      "metadata": {
        "id": "N1bBN6d46Iij",
        "colab_type": "code",
        "colab": {}
      },
      "source": [
        "%tensorflow_version 2.x"
      ],
      "execution_count": 0,
      "outputs": []
    },
    {
      "cell_type": "code",
      "metadata": {
        "id": "ATBITPfa6M5d",
        "colab_type": "code",
        "colab": {}
      },
      "source": [
        "from __future__ import absolute_import, division, print_function, unicode_literals\n",
        "\n",
        "import tensorflow as tf\n",
        "import pandas as pd\n",
        "import matplotlib.pyplot as pl\n",
        "import IPython"
      ],
      "execution_count": 0,
      "outputs": []
    },
    {
      "cell_type": "code",
      "metadata": {
        "id": "nZYK_cDf6gnk",
        "colab_type": "code",
        "colab": {}
      },
      "source": [
        "COL_NAMES = ['Red', 'Green', 'Blue', 'Text']\n",
        "TEXT_COLORS = ['Black', 'White']\n",
        "df = pd.read_csv('/content/data/color.csv', names= COL_NAMES, header= 0)\n",
        "# r g b - red green blue\n",
        "# t - Text color 0 Black, 1 White"
      ],
      "execution_count": 0,
      "outputs": []
    },
    {
      "cell_type": "code",
      "metadata": {
        "id": "UxbkC_PL7Xrd",
        "colab_type": "code",
        "colab": {
          "base_uri": "https://localhost:8080/",
          "height": 206
        },
        "outputId": "a02a116d-9c4b-4319-c498-ea6beb624c7b"
      },
      "source": [
        "df.head()"
      ],
      "execution_count": 88,
      "outputs": [
        {
          "output_type": "execute_result",
          "data": {
            "text/html": [
              "<div>\n",
              "<style scoped>\n",
              "    .dataframe tbody tr th:only-of-type {\n",
              "        vertical-align: middle;\n",
              "    }\n",
              "\n",
              "    .dataframe tbody tr th {\n",
              "        vertical-align: top;\n",
              "    }\n",
              "\n",
              "    .dataframe thead th {\n",
              "        text-align: right;\n",
              "    }\n",
              "</style>\n",
              "<table border=\"1\" class=\"dataframe\">\n",
              "  <thead>\n",
              "    <tr style=\"text-align: right;\">\n",
              "      <th></th>\n",
              "      <th>Red</th>\n",
              "      <th>Green</th>\n",
              "      <th>Blue</th>\n",
              "      <th>Text</th>\n",
              "    </tr>\n",
              "  </thead>\n",
              "  <tbody>\n",
              "    <tr>\n",
              "      <th>0</th>\n",
              "      <td>0</td>\n",
              "      <td>0</td>\n",
              "      <td>0</td>\n",
              "      <td>1</td>\n",
              "    </tr>\n",
              "    <tr>\n",
              "      <th>1</th>\n",
              "      <td>0</td>\n",
              "      <td>0</td>\n",
              "      <td>51</td>\n",
              "      <td>1</td>\n",
              "    </tr>\n",
              "    <tr>\n",
              "      <th>2</th>\n",
              "      <td>0</td>\n",
              "      <td>0</td>\n",
              "      <td>102</td>\n",
              "      <td>1</td>\n",
              "    </tr>\n",
              "    <tr>\n",
              "      <th>3</th>\n",
              "      <td>0</td>\n",
              "      <td>0</td>\n",
              "      <td>153</td>\n",
              "      <td>1</td>\n",
              "    </tr>\n",
              "    <tr>\n",
              "      <th>4</th>\n",
              "      <td>0</td>\n",
              "      <td>0</td>\n",
              "      <td>204</td>\n",
              "      <td>1</td>\n",
              "    </tr>\n",
              "  </tbody>\n",
              "</table>\n",
              "</div>"
            ],
            "text/plain": [
              "   Red  Green  Blue  Text\n",
              "0    0      0     0     1\n",
              "1    0      0    51     1\n",
              "2    0      0   102     1\n",
              "3    0      0   153     1\n",
              "4    0      0   204     1"
            ]
          },
          "metadata": {
            "tags": []
          },
          "execution_count": 88
        }
      ]
    },
    {
      "cell_type": "code",
      "metadata": {
        "id": "_Cf7isDL7ggK",
        "colab_type": "code",
        "colab": {}
      },
      "source": [
        "df_train = df.sample(frac= 0.80, random_state= 0)\n",
        "df_test = df.drop(df_train.index)"
      ],
      "execution_count": 0,
      "outputs": []
    },
    {
      "cell_type": "code",
      "metadata": {
        "id": "kvQmAdOF76L9",
        "colab_type": "code",
        "colab": {}
      },
      "source": [
        "train_y = df_train.pop('Text')\n",
        "test_y = df_test.pop('Text')"
      ],
      "execution_count": 0,
      "outputs": []
    },
    {
      "cell_type": "code",
      "metadata": {
        "id": "MsnFsolF9qtH",
        "colab_type": "code",
        "colab": {}
      },
      "source": [
        "def input_fn(features, labels, training= True, batch_size= 256):\n",
        "  dataset = tf.data.Dataset.from_tensor_slices((dict(features), labels))\n",
        "\n",
        "  if training:\n",
        "    dataset = dataset.shuffle(1000).repeat()\n",
        "\n",
        "  return dataset.batch(batch_size)"
      ],
      "execution_count": 0,
      "outputs": []
    },
    {
      "cell_type": "code",
      "metadata": {
        "id": "NLqOQx6A-ljc",
        "colab_type": "code",
        "colab": {}
      },
      "source": [
        "feature_cols = []\n",
        "\n",
        "for key in df_train.keys():\n",
        "  feature_cols.append(tf.feature_column.numeric_column(key= key))"
      ],
      "execution_count": 0,
      "outputs": []
    },
    {
      "cell_type": "code",
      "metadata": {
        "id": "WC4mtc0A-82S",
        "colab_type": "code",
        "colab": {}
      },
      "source": [
        "cl = tf.estimator.LinearClassifier(\n",
        "    feature_columns= feature_cols,\n",
        "    n_classes=2\n",
        ")\n",
        "IPython.display.clear_output()"
      ],
      "execution_count": 0,
      "outputs": []
    },
    {
      "cell_type": "code",
      "metadata": {
        "id": "efDpiXvf_ZXQ",
        "colab_type": "code",
        "colab": {
          "base_uri": "https://localhost:8080/",
          "height": 1000
        },
        "outputId": "6ea7f7f8-4961-4ecc-f67c-2aca311f6b32"
      },
      "source": [
        "cl.train(\n",
        "    input_fn= lambda: input_fn(df_train, train_y, training= True),\n",
        "    steps= 8000\n",
        ")"
      ],
      "execution_count": 94,
      "outputs": [
        {
          "output_type": "stream",
          "text": [
            "INFO:tensorflow:Calling model_fn.\n",
            "INFO:tensorflow:Done calling model_fn.\n",
            "INFO:tensorflow:Create CheckpointSaverHook.\n",
            "INFO:tensorflow:Graph was finalized.\n",
            "INFO:tensorflow:Running local_init_op.\n",
            "INFO:tensorflow:Done running local_init_op.\n",
            "INFO:tensorflow:Calling checkpoint listeners before saving checkpoint 0...\n",
            "INFO:tensorflow:Saving checkpoints for 0 into /tmp/tmp7ndmwdux/model.ckpt.\n",
            "INFO:tensorflow:Calling checkpoint listeners after saving checkpoint 0...\n",
            "INFO:tensorflow:loss = 0.6931475, step = 0\n",
            "INFO:tensorflow:global_step/sec: 495.06\n",
            "INFO:tensorflow:loss = 1.8298018, step = 100 (0.204 sec)\n",
            "INFO:tensorflow:global_step/sec: 707.552\n",
            "INFO:tensorflow:loss = 1.2845516, step = 200 (0.144 sec)\n",
            "INFO:tensorflow:global_step/sec: 717.957\n",
            "INFO:tensorflow:loss = 0.9365027, step = 300 (0.137 sec)\n",
            "INFO:tensorflow:global_step/sec: 761.969\n",
            "INFO:tensorflow:loss = 0.6726479, step = 400 (0.133 sec)\n",
            "INFO:tensorflow:global_step/sec: 695.391\n",
            "INFO:tensorflow:loss = 0.7126256, step = 500 (0.142 sec)\n",
            "INFO:tensorflow:global_step/sec: 753.902\n",
            "INFO:tensorflow:loss = 0.5679368, step = 600 (0.134 sec)\n",
            "INFO:tensorflow:global_step/sec: 756.914\n",
            "INFO:tensorflow:loss = 0.50361896, step = 700 (0.130 sec)\n",
            "INFO:tensorflow:global_step/sec: 763.418\n",
            "INFO:tensorflow:loss = 0.41663122, step = 800 (0.131 sec)\n",
            "INFO:tensorflow:global_step/sec: 766.513\n",
            "INFO:tensorflow:loss = 0.41375953, step = 900 (0.132 sec)\n",
            "INFO:tensorflow:global_step/sec: 751.449\n",
            "INFO:tensorflow:loss = 0.43580863, step = 1000 (0.134 sec)\n",
            "INFO:tensorflow:global_step/sec: 752.003\n",
            "INFO:tensorflow:loss = 0.3894383, step = 1100 (0.130 sec)\n",
            "INFO:tensorflow:global_step/sec: 660.156\n",
            "INFO:tensorflow:loss = 0.3901943, step = 1200 (0.153 sec)\n",
            "INFO:tensorflow:global_step/sec: 685.543\n",
            "INFO:tensorflow:loss = 0.3727819, step = 1300 (0.147 sec)\n",
            "INFO:tensorflow:global_step/sec: 718.316\n",
            "INFO:tensorflow:loss = 0.36268395, step = 1400 (0.139 sec)\n",
            "INFO:tensorflow:global_step/sec: 747.312\n",
            "INFO:tensorflow:loss = 0.38233942, step = 1500 (0.134 sec)\n",
            "INFO:tensorflow:global_step/sec: 724.147\n",
            "INFO:tensorflow:loss = 0.3676672, step = 1600 (0.136 sec)\n",
            "INFO:tensorflow:global_step/sec: 760.546\n",
            "INFO:tensorflow:loss = 0.35129547, step = 1700 (0.134 sec)\n",
            "INFO:tensorflow:global_step/sec: 695.523\n",
            "INFO:tensorflow:loss = 0.35678226, step = 1800 (0.141 sec)\n",
            "INFO:tensorflow:global_step/sec: 702.639\n",
            "INFO:tensorflow:loss = 0.35154936, step = 1900 (0.144 sec)\n",
            "INFO:tensorflow:global_step/sec: 736.535\n",
            "INFO:tensorflow:loss = 0.3397134, step = 2000 (0.135 sec)\n",
            "INFO:tensorflow:global_step/sec: 745.298\n",
            "INFO:tensorflow:loss = 0.32930127, step = 2100 (0.133 sec)\n",
            "INFO:tensorflow:global_step/sec: 765.974\n",
            "INFO:tensorflow:loss = 0.31803954, step = 2200 (0.133 sec)\n",
            "INFO:tensorflow:global_step/sec: 741.127\n",
            "INFO:tensorflow:loss = 0.32502252, step = 2300 (0.133 sec)\n",
            "INFO:tensorflow:global_step/sec: 747.548\n",
            "INFO:tensorflow:loss = 0.34858045, step = 2400 (0.135 sec)\n",
            "INFO:tensorflow:global_step/sec: 759.967\n",
            "INFO:tensorflow:loss = 0.3291671, step = 2500 (0.130 sec)\n",
            "INFO:tensorflow:global_step/sec: 749.371\n",
            "INFO:tensorflow:loss = 0.32280216, step = 2600 (0.135 sec)\n",
            "INFO:tensorflow:global_step/sec: 706.175\n",
            "INFO:tensorflow:loss = 0.3303557, step = 2700 (0.140 sec)\n",
            "INFO:tensorflow:global_step/sec: 715.942\n",
            "INFO:tensorflow:loss = 0.32070607, step = 2800 (0.141 sec)\n",
            "INFO:tensorflow:global_step/sec: 744.756\n",
            "INFO:tensorflow:loss = 0.3256666, step = 2900 (0.133 sec)\n",
            "INFO:tensorflow:global_step/sec: 743.609\n",
            "INFO:tensorflow:loss = 0.31124517, step = 3000 (0.136 sec)\n",
            "INFO:tensorflow:global_step/sec: 763.856\n",
            "INFO:tensorflow:loss = 0.30730057, step = 3100 (0.132 sec)\n",
            "INFO:tensorflow:global_step/sec: 729.814\n",
            "INFO:tensorflow:loss = 0.32695082, step = 3200 (0.137 sec)\n",
            "INFO:tensorflow:global_step/sec: 743.353\n",
            "INFO:tensorflow:loss = 0.31528562, step = 3300 (0.132 sec)\n",
            "INFO:tensorflow:global_step/sec: 653.952\n",
            "INFO:tensorflow:loss = 0.29783, step = 3400 (0.153 sec)\n",
            "INFO:tensorflow:global_step/sec: 738.101\n",
            "INFO:tensorflow:loss = 0.30462253, step = 3500 (0.135 sec)\n",
            "INFO:tensorflow:global_step/sec: 731.648\n",
            "INFO:tensorflow:loss = 0.3095476, step = 3600 (0.139 sec)\n",
            "INFO:tensorflow:global_step/sec: 732.928\n",
            "INFO:tensorflow:loss = 0.29276544, step = 3700 (0.137 sec)\n",
            "INFO:tensorflow:global_step/sec: 738.872\n",
            "INFO:tensorflow:loss = 0.3085804, step = 3800 (0.133 sec)\n",
            "INFO:tensorflow:global_step/sec: 743.01\n",
            "INFO:tensorflow:loss = 0.28578323, step = 3900 (0.135 sec)\n",
            "INFO:tensorflow:global_step/sec: 726.055\n",
            "INFO:tensorflow:loss = 0.29323518, step = 4000 (0.138 sec)\n",
            "INFO:tensorflow:global_step/sec: 738.349\n",
            "INFO:tensorflow:loss = 0.27562913, step = 4100 (0.135 sec)\n",
            "INFO:tensorflow:global_step/sec: 713.567\n",
            "INFO:tensorflow:loss = 0.30136737, step = 4200 (0.140 sec)\n",
            "INFO:tensorflow:global_step/sec: 746.308\n",
            "INFO:tensorflow:loss = 0.28853592, step = 4300 (0.134 sec)\n",
            "INFO:tensorflow:global_step/sec: 758.114\n",
            "INFO:tensorflow:loss = 0.28500843, step = 4400 (0.133 sec)\n",
            "INFO:tensorflow:global_step/sec: 747.23\n",
            "INFO:tensorflow:loss = 0.28868717, step = 4500 (0.133 sec)\n",
            "INFO:tensorflow:global_step/sec: 713.603\n",
            "INFO:tensorflow:loss = 0.28550237, step = 4600 (0.143 sec)\n",
            "INFO:tensorflow:global_step/sec: 743.627\n",
            "INFO:tensorflow:loss = 0.2901696, step = 4700 (0.135 sec)\n",
            "INFO:tensorflow:global_step/sec: 742.219\n",
            "INFO:tensorflow:loss = 0.27972314, step = 4800 (0.134 sec)\n",
            "INFO:tensorflow:global_step/sec: 700.358\n",
            "INFO:tensorflow:loss = 0.27848667, step = 4900 (0.141 sec)\n",
            "INFO:tensorflow:global_step/sec: 668.999\n",
            "INFO:tensorflow:loss = 0.2878385, step = 5000 (0.150 sec)\n",
            "INFO:tensorflow:global_step/sec: 733.834\n",
            "INFO:tensorflow:loss = 0.2702571, step = 5100 (0.138 sec)\n",
            "INFO:tensorflow:global_step/sec: 685.906\n",
            "INFO:tensorflow:loss = 0.27930978, step = 5200 (0.146 sec)\n",
            "INFO:tensorflow:global_step/sec: 725.218\n",
            "INFO:tensorflow:loss = 0.2837062, step = 5300 (0.138 sec)\n",
            "INFO:tensorflow:global_step/sec: 681.748\n",
            "INFO:tensorflow:loss = 0.30622673, step = 5400 (0.146 sec)\n",
            "INFO:tensorflow:global_step/sec: 741.61\n",
            "INFO:tensorflow:loss = 0.2746172, step = 5500 (0.135 sec)\n",
            "INFO:tensorflow:global_step/sec: 683.044\n",
            "INFO:tensorflow:loss = 0.28172365, step = 5600 (0.145 sec)\n",
            "INFO:tensorflow:global_step/sec: 722.71\n",
            "INFO:tensorflow:loss = 0.2801714, step = 5700 (0.140 sec)\n",
            "INFO:tensorflow:global_step/sec: 723.269\n",
            "INFO:tensorflow:loss = 0.27427906, step = 5800 (0.138 sec)\n",
            "INFO:tensorflow:global_step/sec: 729.617\n",
            "INFO:tensorflow:loss = 0.28137696, step = 5900 (0.137 sec)\n",
            "INFO:tensorflow:global_step/sec: 703.514\n",
            "INFO:tensorflow:loss = 0.26191336, step = 6000 (0.140 sec)\n",
            "INFO:tensorflow:global_step/sec: 735.011\n",
            "INFO:tensorflow:loss = 0.27842692, step = 6100 (0.136 sec)\n",
            "INFO:tensorflow:global_step/sec: 734.307\n",
            "INFO:tensorflow:loss = 0.26410627, step = 6200 (0.138 sec)\n",
            "INFO:tensorflow:global_step/sec: 731.682\n",
            "INFO:tensorflow:loss = 0.27675933, step = 6300 (0.135 sec)\n",
            "INFO:tensorflow:global_step/sec: 702.814\n",
            "INFO:tensorflow:loss = 0.2734018, step = 6400 (0.142 sec)\n",
            "INFO:tensorflow:global_step/sec: 713.225\n",
            "INFO:tensorflow:loss = 0.28126222, step = 6500 (0.140 sec)\n",
            "INFO:tensorflow:global_step/sec: 728.323\n",
            "INFO:tensorflow:loss = 0.2597538, step = 6600 (0.138 sec)\n",
            "INFO:tensorflow:global_step/sec: 738.464\n",
            "INFO:tensorflow:loss = 0.24859884, step = 6700 (0.138 sec)\n",
            "INFO:tensorflow:global_step/sec: 728.971\n",
            "INFO:tensorflow:loss = 0.2773831, step = 6800 (0.135 sec)\n",
            "INFO:tensorflow:global_step/sec: 692.933\n",
            "INFO:tensorflow:loss = 0.26071852, step = 6900 (0.147 sec)\n",
            "INFO:tensorflow:global_step/sec: 707.031\n",
            "INFO:tensorflow:loss = 0.26095828, step = 7000 (0.141 sec)\n",
            "INFO:tensorflow:global_step/sec: 584.456\n",
            "INFO:tensorflow:loss = 0.280473, step = 7100 (0.170 sec)\n",
            "INFO:tensorflow:global_step/sec: 734.514\n",
            "INFO:tensorflow:loss = 0.278309, step = 7200 (0.138 sec)\n",
            "INFO:tensorflow:global_step/sec: 724.649\n",
            "INFO:tensorflow:loss = 0.2824757, step = 7300 (0.138 sec)\n",
            "INFO:tensorflow:global_step/sec: 724.573\n",
            "INFO:tensorflow:loss = 0.27168757, step = 7400 (0.138 sec)\n",
            "INFO:tensorflow:global_step/sec: 736.675\n",
            "INFO:tensorflow:loss = 0.28299272, step = 7500 (0.133 sec)\n",
            "INFO:tensorflow:global_step/sec: 727.883\n",
            "INFO:tensorflow:loss = 0.26210266, step = 7600 (0.139 sec)\n",
            "INFO:tensorflow:global_step/sec: 728.577\n",
            "INFO:tensorflow:loss = 0.26972997, step = 7700 (0.136 sec)\n",
            "INFO:tensorflow:global_step/sec: 742.424\n",
            "INFO:tensorflow:loss = 0.24863528, step = 7800 (0.137 sec)\n",
            "INFO:tensorflow:global_step/sec: 666.699\n",
            "INFO:tensorflow:loss = 0.259177, step = 7900 (0.149 sec)\n",
            "INFO:tensorflow:Calling checkpoint listeners before saving checkpoint 8000...\n",
            "INFO:tensorflow:Saving checkpoints for 8000 into /tmp/tmp7ndmwdux/model.ckpt.\n",
            "INFO:tensorflow:Calling checkpoint listeners after saving checkpoint 8000...\n",
            "INFO:tensorflow:Loss for final step: 0.26328892.\n"
          ],
          "name": "stdout"
        },
        {
          "output_type": "execute_result",
          "data": {
            "text/plain": [
              "<tensorflow_estimator.python.estimator.canned.linear.LinearClassifierV2 at 0x7f7948b3d748>"
            ]
          },
          "metadata": {
            "tags": []
          },
          "execution_count": 94
        }
      ]
    },
    {
      "cell_type": "code",
      "metadata": {
        "id": "anbb4bT2_uWe",
        "colab_type": "code",
        "colab": {
          "base_uri": "https://localhost:8080/",
          "height": 52
        },
        "outputId": "15c55f84-258a-4b7e-b191-f53326b51d5b"
      },
      "source": [
        "result = cl.evaluate(input_fn= lambda: input_fn(df_test, test_y, training= False))\n",
        "IPython.display.clear_output()\n",
        "print('\\nTest set Accuracy: {accuracy:0.3f}'.format(**result))"
      ],
      "execution_count": 95,
      "outputs": [
        {
          "output_type": "stream",
          "text": [
            "\n",
            "Test set Accuracy: 0.837\n"
          ],
          "name": "stdout"
        }
      ]
    },
    {
      "cell_type": "code",
      "metadata": {
        "id": "uRBaPdWzIit5",
        "colab_type": "code",
        "colab": {}
      },
      "source": [
        "def input_fn_p(features, batch_size= 256):\n",
        "  return tf.data.Dataset.from_tensor_slices(dict(features)).batch(batch_size)"
      ],
      "execution_count": 0,
      "outputs": []
    },
    {
      "cell_type": "code",
      "metadata": {
        "id": "yG_ikuNUAa2C",
        "colab_type": "code",
        "colab": {
          "base_uri": "https://localhost:8080/",
          "height": 97
        },
        "outputId": "bc2e2ec3-04cd-404a-ad81-7ed3f112430e"
      },
      "source": [
        "r_val = 0 #@param { type: 'slider', min: 0, max: 255 }\n",
        "g_val = 0 #@param { type: 'slider', min: 0, max: 255 }\n",
        "b_val = 0 #@param { type: 'slider', min: 0, max: 255 }\n",
        "\n",
        "predict = {\n",
        "    'Red': [float(r_val)],\n",
        "    'Green': [float(g_val)],\n",
        "    'Blue': [float(b_val)]\n",
        "}\n",
        "\n",
        "predictions = cl.predict(input_fn= lambda: input_fn_p(predict))\n",
        "\n",
        "txt_color = \"\"\n",
        "\n",
        "for prediction in predictions:\n",
        "  class_ids = prediction['class_ids'][0]\n",
        "  probability = prediction['probabilities'][class_ids]\n",
        "  txt_color = TEXT_COLORS[class_ids]\n",
        "  IPython.display.clear_output()\n",
        "  print(f'Text colour should be {TEXT_COLORS[class_ids]}: {probability * 100:.1f}%\\nSample: ')\n",
        "\n",
        "js_code = '''\n",
        "var div = document.createElement(\"div\");\n",
        "div.style.width = \"100px\";\n",
        "div.style.height = \"30px\";\n",
        "div.style.background = \"rgb({}, {}, {})\";\n",
        "div.style.paddingTop = \"15px\";\n",
        "div.style.textAlign = \"center\";\n",
        "div.style.color = \"{}\";\n",
        "div.innerHTML = \"TEXT\";\n",
        "document.querySelector(\"#output-area\").appendChild(div);\n",
        "'''.format(r_val, g_val, b_val, txt_color)\n",
        "display(IPython.display.Javascript(js_code))"
      ],
      "execution_count": 97,
      "outputs": [
        {
          "output_type": "stream",
          "text": [
            "Text colour should be White: 99.9%\n",
            "Sample: \n"
          ],
          "name": "stdout"
        },
        {
          "output_type": "display_data",
          "data": {
            "application/javascript": [
              "\n",
              "var div = document.createElement(\"div\");\n",
              "div.style.width = \"100px\";\n",
              "div.style.height = \"30px\";\n",
              "div.style.background = \"rgb(0, 0, 0)\";\n",
              "div.style.paddingTop = \"15px\";\n",
              "div.style.textAlign = \"center\";\n",
              "div.style.color = \"White\";\n",
              "div.innerHTML = \"TEXT\";\n",
              "document.querySelector(\"#output-area\").appendChild(div);\n"
            ],
            "text/plain": [
              "<IPython.core.display.Javascript object>"
            ]
          },
          "metadata": {
            "tags": []
          }
        }
      ]
    }
  ]
}