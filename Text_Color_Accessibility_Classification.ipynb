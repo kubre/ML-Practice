{
  "nbformat": 4,
  "nbformat_minor": 0,
  "metadata": {
    "colab": {
      "name": "Text Color Accessibility Classification.ipynb",
      "provenance": [],
      "collapsed_sections": [],
      "mount_file_id": "1c1UtWnvvfdc7sxLH328SxNx5SG7DIs0-",
      "authorship_tag": "ABX9TyMFrnAm/VlPxPLro8s0gjBp"
    },
    "kernelspec": {
      "name": "python3",
      "display_name": "Python 3"
    }
  },
  "cells": [
    {
      "cell_type": "markdown",
      "metadata": {
        "id": "0fVqFf27UH-E",
        "colab_type": "text"
      },
      "source": [
        "# Text Color Accessibility Classifier\n",
        "\n",
        "Just a simple hello world like ml program to train a model and predict whether white or black text will look better on given RGB color value.\n",
        "\n",
        "This uses LinearClassifier, but there is also code for DNNClassifier."
      ]
    },
    {
      "cell_type": "code",
      "metadata": {
        "id": "N1bBN6d46Iij",
        "colab_type": "code",
        "colab": {}
      },
      "source": [
        "%tensorflow_version 2.x"
      ],
      "execution_count": 0,
      "outputs": []
    },
    {
      "cell_type": "code",
      "metadata": {
        "id": "ATBITPfa6M5d",
        "colab_type": "code",
        "colab": {}
      },
      "source": [
        "from __future__ import absolute_import, division, print_function, unicode_literals\n",
        "\n",
        "import tensorflow as tf\n",
        "import pandas as pd\n",
        "import matplotlib.pyplot as pl\n",
        "import IPython"
      ],
      "execution_count": 0,
      "outputs": []
    },
    {
      "cell_type": "markdown",
      "metadata": {
        "id": "6s1dF1vAPNgy",
        "colab_type": "text"
      },
      "source": [
        "Reading csv data file and providing column names"
      ]
    },
    {
      "cell_type": "code",
      "metadata": {
        "id": "nZYK_cDf6gnk",
        "colab_type": "code",
        "colab": {
          "base_uri": "https://localhost:8080/",
          "height": 132
        },
        "outputId": "e1d5c4fb-cb57-4289-87d4-4f4ed16498cb"
      },
      "source": [
        "COL_NAMES = ['Red', 'Green', 'Blue', 'Text']\n",
        "TEXT_COLORS = ['Black', 'White']\n",
        "df = pd.read_csv('https://raw.githubusercontent.com/kubre/ML-Practice/master/data/color.csv, names= COL_NAMES, header= 0)\n",
        "# r g b - red green blue\n",
        "# t - Text color 0 Black, 1 White"
      ],
      "execution_count": 101,
      "outputs": [
        {
          "output_type": "error",
          "ename": "SyntaxError",
          "evalue": "ignored",
          "traceback": [
            "\u001b[0;36m  File \u001b[0;32m\"<ipython-input-101-2a4d0dd536d8>\"\u001b[0;36m, line \u001b[0;32m3\u001b[0m\n\u001b[0;31m    df = pd.read_csv('https://raw.githubusercontent.com/kubre/ML-Practice/master/data/color.csv, names= COL_NAMES, header= 0)\u001b[0m\n\u001b[0m                                                                                                                             ^\u001b[0m\n\u001b[0;31mSyntaxError\u001b[0m\u001b[0;31m:\u001b[0m EOL while scanning string literal\n"
          ]
        }
      ]
    },
    {
      "cell_type": "code",
      "metadata": {
        "id": "UxbkC_PL7Xrd",
        "colab_type": "code",
        "colab": {
          "base_uri": "https://localhost:8080/",
          "height": 139
        },
        "outputId": "74513524-77a5-4bb3-e3c7-8bb7a62ef8ae"
      },
      "source": [
        "print(df.head())\n",
        "print(df.shape)"
      ],
      "execution_count": 102,
      "outputs": [
        {
          "output_type": "stream",
          "text": [
            "   Red  Green  Blue  Text\n",
            "0    0      0     0     1\n",
            "1    0      0    51     1\n",
            "2    0      0   102     1\n",
            "3    0      0   153     1\n",
            "4    0      0   204     1\n",
            "(216, 4)\n"
          ],
          "name": "stdout"
        }
      ]
    },
    {
      "cell_type": "markdown",
      "metadata": {
        "id": "CNK0GkiRPafM",
        "colab_type": "text"
      },
      "source": [
        "Splitting dataset into two for taining and testing,\n",
        "you can change frac= x, as ex. x = 0.80 then training dataset\n",
        "will be 80% and testing dataset will be 20%"
      ]
    },
    {
      "cell_type": "code",
      "metadata": {
        "id": "_Cf7isDL7ggK",
        "colab_type": "code",
        "colab": {}
      },
      "source": [
        "df_train = df.sample(frac= 0.80, random_state= 0)\n",
        "df_test = df.drop(df_train.index)"
      ],
      "execution_count": 0,
      "outputs": []
    },
    {
      "cell_type": "markdown",
      "metadata": {
        "id": "7Qx53h9lRbQI",
        "colab_type": "text"
      },
      "source": [
        "Extract the labels column"
      ]
    },
    {
      "cell_type": "code",
      "metadata": {
        "id": "kvQmAdOF76L9",
        "colab_type": "code",
        "colab": {}
      },
      "source": [
        "train_y = df_train.pop('Text')\n",
        "test_y = df_test.pop('Text')"
      ],
      "execution_count": 0,
      "outputs": []
    },
    {
      "cell_type": "markdown",
      "metadata": {
        "id": "ibQeJ2zqReCz",
        "colab_type": "text"
      },
      "source": [
        "Input function for training and testing purposes."
      ]
    },
    {
      "cell_type": "code",
      "metadata": {
        "id": "MsnFsolF9qtH",
        "colab_type": "code",
        "colab": {}
      },
      "source": [
        "def input_fn(features, labels, training= True, batch_size= 256):\n",
        "  dataset = tf.data.Dataset.from_tensor_slices((dict(features), labels))\n",
        "\n",
        "  if training:\n",
        "    dataset = dataset.shuffle(1000).repeat()\n",
        "\n",
        "  return dataset.batch(batch_size)"
      ],
      "execution_count": 0,
      "outputs": []
    },
    {
      "cell_type": "code",
      "metadata": {
        "id": "NLqOQx6A-ljc",
        "colab_type": "code",
        "colab": {}
      },
      "source": [
        "feature_cols = []\n",
        "\n",
        "for key in df_train.keys():\n",
        "  feature_cols.append(tf.feature_column.numeric_column(key= key))"
      ],
      "execution_count": 0,
      "outputs": []
    },
    {
      "cell_type": "markdown",
      "metadata": {
        "id": "8nx2d9hSR2KG",
        "colab_type": "text"
      },
      "source": [
        "Creating and Training classifier. You can also switch it out for DNNClassifier but in my test it was less accurate than LinearClassifier.\n",
        "There are lines commented, you can uncomment and see DNNClassifier results."
      ]
    },
    {
      "cell_type": "code",
      "metadata": {
        "id": "WC4mtc0A-82S",
        "colab_type": "code",
        "colab": {}
      },
      "source": [
        "cl = tf.estimator.LinearClassifier(\n",
        "    feature_columns= feature_cols,\n",
        "    n_classes=2\n",
        ")\n",
        "cl.train(\n",
        "    input_fn= lambda: input_fn(df_train, train_y, training= True),\n",
        "    steps= 8000\n",
        ")\n",
        "\n",
        "# DNNClassifer\n",
        "# cldnn = tf.estimator.DNNClassifier(\n",
        "#     feature_columns= feature_cols,\n",
        "#     hidden_units=[20, 10]\n",
        "#     n_classes=2\n",
        "# )\n",
        "# cldnn.train(\n",
        "#     input_fn= lambda: input_fn(df_train, train_y, training= True),\n",
        "#     steps= 8000\n",
        "# )\n",
        "IPython.display.clear_output()"
      ],
      "execution_count": 0,
      "outputs": []
    },
    {
      "cell_type": "code",
      "metadata": {
        "id": "anbb4bT2_uWe",
        "colab_type": "code",
        "colab": {
          "base_uri": "https://localhost:8080/",
          "height": 34
        },
        "outputId": "ff9db1ab-4594-42bc-ffd2-5595f7c0d645"
      },
      "source": [
        "result = cl.evaluate(input_fn= lambda: input_fn(df_test, test_y, training= False))\n",
        "# result_dnn = cldnn.evaluate(input_fn= lambda: input_fn(df_test, test_y, training= False))\n",
        "IPython.display.clear_output()\n",
        "print('Test set Accuracy: {accuracy:0.3f}'.format(**result))\n",
        "# print('\\nTest set Accuracy(DNN): {accuracy:0.3f}'.format(**result_dnn))"
      ],
      "execution_count": 108,
      "outputs": [
        {
          "output_type": "stream",
          "text": [
            "Test set Accuracy: 0.837\n"
          ],
          "name": "stdout"
        }
      ]
    },
    {
      "cell_type": "code",
      "metadata": {
        "id": "uRBaPdWzIit5",
        "colab_type": "code",
        "colab": {}
      },
      "source": [
        "# Simple input fucntion for feeding classifier data to predict\n",
        "def input_fn_p(features, batch_size= 256):\n",
        "  return tf.data.Dataset.from_tensor_slices(dict(features)).batch(batch_size)"
      ],
      "execution_count": 0,
      "outputs": []
    },
    {
      "cell_type": "markdown",
      "metadata": {
        "id": "zp5eJuNOT3RS",
        "colab_type": "text"
      },
      "source": [
        "Simple interactive exmaple. "
      ]
    },
    {
      "cell_type": "code",
      "metadata": {
        "id": "yG_ikuNUAa2C",
        "colab_type": "code",
        "colab": {
          "base_uri": "https://localhost:8080/",
          "height": 97
        },
        "outputId": "eacba43a-99ea-4d83-ae26-ebccc9d6fd03"
      },
      "source": [
        "r_val = 0 #@param { type: 'slider', min: 0, max: 255 }\n",
        "g_val = 0 #@param { type: 'slider', min: 0, max: 255 }\n",
        "b_val = 0 #@param { type: 'slider', min: 0, max: 255 }\n",
        "\n",
        "predict = {\n",
        "    'Red': [float(r_val)],\n",
        "    'Green': [float(g_val)],\n",
        "    'Blue': [float(b_val)]\n",
        "}\n",
        "\n",
        "predictions = cl.predict(input_fn= lambda: input_fn_p(predict))\n",
        "\n",
        "txt_color = \"\"\n",
        "\n",
        "for prediction in predictions:\n",
        "  class_ids = prediction['class_ids'][0]\n",
        "  probability = prediction['probabilities'][class_ids]\n",
        "  txt_color = TEXT_COLORS[class_ids]\n",
        "  IPython.display.clear_output()\n",
        "  print(f'Text colour should be {TEXT_COLORS[class_ids]}: {probability * 100:.1f}%\\nSample: ')\n",
        "\n",
        "js_code = '''\n",
        "var div = document.createElement(\"div\");\n",
        "div.style.width = \"100px\";\n",
        "div.style.height = \"30px\";\n",
        "div.style.background = \"rgb({}, {}, {})\";\n",
        "div.style.paddingTop = \"15px\";\n",
        "div.style.textAlign = \"center\";\n",
        "div.style.color = \"{}\";\n",
        "div.innerHTML = \"TEXT\";\n",
        "document.querySelector(\"#output-area\").appendChild(div);\n",
        "'''.format(r_val, g_val, b_val, txt_color)\n",
        "display(IPython.display.Javascript(js_code))"
      ],
      "execution_count": 110,
      "outputs": [
        {
          "output_type": "stream",
          "text": [
            "Text colour should be White: 99.9%\n",
            "Sample: \n"
          ],
          "name": "stdout"
        },
        {
          "output_type": "display_data",
          "data": {
            "application/javascript": [
              "\n",
              "var div = document.createElement(\"div\");\n",
              "div.style.width = \"100px\";\n",
              "div.style.height = \"30px\";\n",
              "div.style.background = \"rgb(0, 0, 0)\";\n",
              "div.style.paddingTop = \"15px\";\n",
              "div.style.textAlign = \"center\";\n",
              "div.style.color = \"White\";\n",
              "div.innerHTML = \"TEXT\";\n",
              "document.querySelector(\"#output-area\").appendChild(div);\n"
            ],
            "text/plain": [
              "<IPython.core.display.Javascript object>"
            ]
          },
          "metadata": {
            "tags": []
          }
        }
      ]
    }
  ]
}